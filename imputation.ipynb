{
 "cells": [
  {
   "cell_type": "code",
   "execution_count": 12,
   "metadata": {},
   "outputs": [
    {
     "ename": "TypeError",
     "evalue": "load_workbook() got an unexpected keyword argument 'password'",
     "output_type": "error",
     "traceback": [
      "\u001b[0;31m---------------------------------------------------------------------------\u001b[0m",
      "\u001b[0;31mTypeError\u001b[0m                                 Traceback (most recent call last)",
      "\u001b[1;32m/Users/a./Project_Creditbly/imputation.ipynb Cell 1\u001b[0m in \u001b[0;36m<cell line: 10>\u001b[0;34m()\u001b[0m\n\u001b[1;32m      <a href='vscode-notebook-cell:/Users/a./Project_Creditbly/imputation.ipynb#W0sZmlsZQ%3D%3D?line=5'>6</a>\u001b[0m password \u001b[39m=\u001b[39m \u001b[39m\"\u001b[39m\u001b[39mbigred2023\u001b[39m\u001b[39m\"\u001b[39m\n\u001b[1;32m      <a href='vscode-notebook-cell:/Users/a./Project_Creditbly/imputation.ipynb#W0sZmlsZQ%3D%3D?line=7'>8</a>\u001b[0m temp_filename \u001b[39m=\u001b[39m \u001b[39m\"\u001b[39m\u001b[39mtemp_decrypted.xlsx\u001b[39m\u001b[39m\"\u001b[39m\n\u001b[0;32m---> <a href='vscode-notebook-cell:/Users/a./Project_Creditbly/imputation.ipynb#W0sZmlsZQ%3D%3D?line=9'>10</a>\u001b[0m workbook \u001b[39m=\u001b[39m load_workbook(filename\u001b[39m=\u001b[39;49mfilename, read_only\u001b[39m=\u001b[39;49m\u001b[39mTrue\u001b[39;49;00m, keep_vba\u001b[39m=\u001b[39;49m\u001b[39mFalse\u001b[39;49;00m, data_only\u001b[39m=\u001b[39;49m\u001b[39mTrue\u001b[39;49;00m, password\u001b[39m=\u001b[39;49mpassword)\n",
      "\u001b[0;31mTypeError\u001b[0m: load_workbook() got an unexpected keyword argument 'password'"
     ]
    }
   ],
   "source": [
    "import pandas as pd\n",
    "from openpyxl import load_workbook\n",
    "import msoffcrypto\n",
    "import os\n",
    "filename = \"dataset.xlsx\"\n",
    "password = \"bigred2023\"\n",
    "\n",
    "temp_filename = \"temp_decrypted.xlsx\"\n",
    "\n",
    "workbook = load_workbook(filename=filename, read_only=True, keep_vba=False, data_only=True, password=password)\n",
    "\n"
   ]
  }
 ],
 "metadata": {
  "kernelspec": {
   "display_name": "Python 3",
   "language": "python",
   "name": "python3"
  },
  "language_info": {
   "codemirror_mode": {
    "name": "ipython",
    "version": 3
   },
   "file_extension": ".py",
   "mimetype": "text/x-python",
   "name": "python",
   "nbconvert_exporter": "python",
   "pygments_lexer": "ipython3",
   "version": "3.10.4"
  },
  "orig_nbformat": 4
 },
 "nbformat": 4,
 "nbformat_minor": 2
}
